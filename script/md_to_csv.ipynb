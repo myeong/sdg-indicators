{
 "cells": [
  {
   "cell_type": "markdown",
   "metadata": {},
   "source": [
    "# Scripts to Generate an Aggregate CSV file from Markdown Files of SDG Indicators Data\n",
    "\n",
    "### Written by Myeong Lee (University of Maryland)"
   ]
  },
  {
   "cell_type": "code",
   "execution_count": null,
   "metadata": {
    "collapsed": true
   },
   "outputs": [],
   "source": [
    "import csv\n",
    "import re\n",
    "import collections\n",
    "import json\n",
    "import glob\n",
    "import pandas as pd\n",
    "\n",
    "file_path = r\"../_indicators/\"\n",
    "out_csv = r\"aggregate_md.csv\"\n"
   ]
  },
  {
   "cell_type": "code",
   "execution_count": null,
   "metadata": {
    "collapsed": false,
    "scrolled": false
   },
   "outputs": [],
   "source": [
    "parsed_data = {}  \n",
    "index = 0\n",
    "df = pd.DataFrame(columns=['title'])\n",
    "first = True\n",
    "multi_lines = False\n",
    "\n",
    "# Looping through a folder with MD files\n",
    "for txt_file in glob.glob(file_path + \"*.md\"):\n",
    "    print (txt_file)\n",
    "\n",
    "    key = \"\"\n",
    "    value = \"\"\n",
    "    prev_key = \"\"\n",
    "\n",
    "\n",
    "    with open(txt_file) as f:\n",
    "        for line in f:         \n",
    "            \n",
    "            if line.startswith(\"  \"):\n",
    "                multi_lines = True\n",
    "                \n",
    "            line = line.strip()\n",
    "            line = ' '.join(line.split())\n",
    "            check = line.split(\":\",1)     \n",
    "\n",
    "            if check[0].startswith(\"--\"):\n",
    "                continue\n",
    "\n",
    "            if len(check) == 2 and check[0] != \"https\" and check[0] != \"http\" and multi_lines == False:\n",
    "                if prev_key != key and value != \"\":\n",
    "                    if key not in df.columns: \n",
    "                        df[key] = pd.Series([\"\"], index=df.index)\n",
    "                        first = False\n",
    "                    df.loc[index,key]= value\n",
    "                    prev_key = key\n",
    "                key = check[0]\n",
    "                \n",
    "                if check[1].find(\">-\") != -1:\n",
    "                    multi_lines = True\n",
    "                    \n",
    "                value = re.sub('>-', '', check[1])   \n",
    "                value = re.sub(\"'\", '', value)\n",
    "                value = re.sub('\"', '', value)\n",
    "                value = value.strip()\n",
    "            else:            \n",
    "                value = value + \" \" + re.sub('>-', '', line)\n",
    "                value = re.sub(\"'\", '', value)\n",
    "                value = re.sub('\"', '', value)\n",
    "                value = value.strip()\n",
    "                multi_lines = False\n",
    "\n",
    "\n",
    "        index += 1\n",
    "\n",
    "\n"
   ]
  },
  {
   "cell_type": "code",
   "execution_count": null,
   "metadata": {
    "collapsed": false
   },
   "outputs": [],
   "source": [
    "df.head()"
   ]
  },
  {
   "cell_type": "code",
   "execution_count": null,
   "metadata": {
    "collapsed": true
   },
   "outputs": [],
   "source": [
    "df.to_csv(out_csv)"
   ]
  },
  {
   "cell_type": "code",
   "execution_count": null,
   "metadata": {
    "collapsed": true
   },
   "outputs": [],
   "source": []
  }
 ],
 "metadata": {
  "kernelspec": {
   "display_name": "Python 2",
   "language": "python",
   "name": "python2"
  },
  "language_info": {
   "codemirror_mode": {
    "name": "ipython",
    "version": 2
   },
   "file_extension": ".py",
   "mimetype": "text/x-python",
   "name": "python",
   "nbconvert_exporter": "python",
   "pygments_lexer": "ipython2",
   "version": "2.7.12"
  }
 },
 "nbformat": 4,
 "nbformat_minor": 0
}
